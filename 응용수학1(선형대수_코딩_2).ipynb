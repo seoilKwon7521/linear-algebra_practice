{
  "nbformat": 4,
  "nbformat_minor": 0,
  "metadata": {
    "colab": {
      "provenance": []
    },
    "kernelspec": {
      "name": "python3",
      "display_name": "Python 3"
    },
    "language_info": {
      "name": "python"
    }
  },
  "cells": [
    {
      "cell_type": "markdown",
      "source": [
        "#선형대수 파이썬-2"
      ],
      "metadata": {
        "id": "bKNVM5_U0Glo"
      }
    },
    {
      "cell_type": "markdown",
      "source": [
        "##1.최적근사(Best Approximation)"
      ],
      "metadata": {
        "id": "QZgfSby50Iy_"
      }
    },
    {
      "cell_type": "code",
      "source": [
        "import numpy as np"
      ],
      "metadata": {
        "id": "-Thniiln2c7P"
      },
      "execution_count": null,
      "outputs": []
    },
    {
      "cell_type": "code",
      "source": [
        "##행렬을 입력하게 해주는 함수 선언\n",
        "\n",
        "def input_matrix():\n",
        "\n",
        "    print(\"행렬을 입력하세요. 각 행은 공백으로 구분된 숫자들을 입력하세요.\")\n",
        "    rows = []\n",
        "\n",
        "    while True:\n",
        "        row_input = input(\"행 입력 (종료하려면 'q' 입력): \").strip()\n",
        "\n",
        "        if row_input.lower() == 'q':\n",
        "            break\n",
        "\n",
        "        row = [float(num) for num in row_input.split()]\n",
        "        rows.append(row)\n",
        "\n",
        "    matrix = np.array(rows)  # 리스트를 NumPy 배열로 변환\n",
        "\n",
        "    return matrix\n"
      ],
      "metadata": {
        "id": "GJBWr54O2iCm"
      },
      "execution_count": null,
      "outputs": []
    },
    {
      "cell_type": "code",
      "source": [
        "input_matrix()"
      ],
      "metadata": {
        "colab": {
          "base_uri": "https://localhost:8080/"
        },
        "id": "2qq5QI_w8mfk",
        "outputId": "809cc94f-5fc3-40e5-8c59-b262165a314d"
      },
      "execution_count": null,
      "outputs": [
        {
          "name": "stdout",
          "output_type": "stream",
          "text": [
            "행렬을 입력하세요. 각 행은 공백으로 구분된 숫자들을 입력하세요.\n",
            "행 입력 (종료하려면 'q' 입력): 4\n",
            "행 입력 (종료하려면 'q' 입력): 5\n",
            "행 입력 (종료하려면 'q' 입력): 7\n",
            "행 입력 (종료하려면 'q' 입력): q\n"
          ]
        },
        {
          "output_type": "execute_result",
          "data": {
            "text/plain": [
              "array([[4.],\n",
              "       [5.],\n",
              "       [7.]])"
            ]
          },
          "metadata": {},
          "execution_count": 42
        }
      ]
    },
    {
      "cell_type": "code",
      "source": [
        "matrix = input_matrix()\n",
        "\n",
        "print(\"입력한 행렬:\")\n",
        "print(matrix)"
      ],
      "metadata": {
        "colab": {
          "base_uri": "https://localhost:8080/"
        },
        "id": "2fqLD68l3DfR",
        "outputId": "7921a4f9-ffbb-4c3e-e680-55289e794f73"
      },
      "execution_count": null,
      "outputs": [
        {
          "output_type": "stream",
          "name": "stdout",
          "text": [
            "행렬을 입력하세요. 각 행은 공백으로 구분된 숫자들을 입력하세요.\n",
            "행 입력 (종료하려면 'q' 입력): 3 4 5\n",
            "행 입력 (종료하려면 'q' 입력): 2 4 5\n",
            "행 입력 (종료하려면 'q' 입력): 7 4 5\n",
            "행 입력 (종료하려면 'q' 입력): 8 9 6\n",
            "행 입력 (종료하려면 'q' 입력): q\n",
            "입력한 행렬:\n",
            "[[3. 4. 5.]\n",
            " [2. 4. 5.]\n",
            " [7. 4. 5.]\n",
            " [8. 9. 6.]]\n"
          ]
        }
      ]
    },
    {
      "cell_type": "code",
      "source": [
        "def b_a():\n",
        "  A = input_matrix()\n",
        "  b = input_matrix()\n",
        "\n",
        "  x = np.linalg.solve(np.matmul(np.transpose(A),A),np.matmul(np.transpose(A),b))\n",
        "  print()\n",
        "  return print(x)"
      ],
      "metadata": {
        "id": "9FKglo9T0gNY"
      },
      "execution_count": null,
      "outputs": []
    },
    {
      "cell_type": "code",
      "source": [
        "b_a()"
      ],
      "metadata": {
        "colab": {
          "base_uri": "https://localhost:8080/"
        },
        "id": "vfRASlBN5zg9",
        "outputId": "bcda52bf-7c83-4477-af8f-49a3933ed710"
      },
      "execution_count": null,
      "outputs": [
        {
          "output_type": "stream",
          "name": "stdout",
          "text": [
            "행렬을 입력하세요. 각 행은 공백으로 구분된 숫자들을 입력하세요.\n",
            "행 입력 (종료하려면 'q' 입력): 1 4 7\n",
            "행 입력 (종료하려면 'q' 입력): 4 5 6\n",
            "행 입력 (종료하려면 'q' 입력): 1 0 0\n",
            "행 입력 (종료하려면 'q' 입력): 2 1 1\n",
            "행 입력 (종료하려면 'q' 입력): q\n",
            "행렬을 입력하세요. 각 행은 공백으로 구분된 숫자들을 입력하세요.\n",
            "행 입력 (종료하려면 'q' 입력): 1\n",
            "행 입력 (종료하려면 'q' 입력): 4\n",
            "행 입력 (종료하려면 'q' 입력): 5\n",
            "행 입력 (종료하려면 'q' 입력): 7\n",
            "행 입력 (종료하려면 'q' 입력): q\n",
            "\n",
            "[[ 5.48015873]\n",
            " [-8.8531746 ]\n",
            " [ 4.41269841]]\n"
          ]
        }
      ]
    },
    {
      "cell_type": "markdown",
      "source": [
        "- 최적근사를 통해 선형회귀"
      ],
      "metadata": {
        "id": "Iww-1np_QW8G"
      }
    },
    {
      "cell_type": "code",
      "source": [
        "def linreg(X, y):\n",
        "    X_b = np.c_[X, np.ones_like(y)]\n",
        "    w = np.linalg.inv(X_b.T @ X_b) @ X_b.T @ y\n",
        "\n",
        "    m = w[0]\n",
        "    b = w[1]\n",
        "\n",
        "    return m, b\n"
      ],
      "metadata": {
        "id": "dnOxBSibSr9e"
      },
      "execution_count": null,
      "outputs": []
    },
    {
      "cell_type": "code",
      "source": [
        "X = np.array([1, 4, 5, 7])\n",
        "y = np.array([2, 3, 4, 8])\n",
        "\n",
        "\n",
        "m, b = linreg(X, y)\n",
        "print(m,\"x+\",b)"
      ],
      "metadata": {
        "colab": {
          "base_uri": "https://localhost:8080/"
        },
        "id": "Ck9aSRoWUI1l",
        "outputId": "fab306fd-689b-4053-b9dc-7bff6bdc813f"
      },
      "execution_count": null,
      "outputs": [
        {
          "output_type": "stream",
          "name": "stdout",
          "text": [
            "0.9466666666666668 x+ 0.22666666666666657\n"
          ]
        }
      ]
    },
    {
      "cell_type": "code",
      "source": [
        "# 데이터와 회귀 직선을 그래프로 시각화\n",
        "import matplotlib.pyplot as plt\n",
        "\n",
        "x_values = np.linspace(np.min(X), np.max(X), 100)\n",
        "y_values = m * x_values + b\n",
        "plt.figure(figsize=(8, 6))\n",
        "plt.scatter(X, y, color='blue', label='Data Points')\n",
        "plt.plot(x_values, y_values, color='red', label=f'Linear Regression Line (y = {m:.2f}x + {b:.2f})')\n",
        "plt.xlabel('X')\n",
        "plt.ylabel('Y')\n",
        "plt.title('Linear Regression')\n",
        "plt.legend()\n",
        "plt.grid(True)\n",
        "plt.show()"
      ],
      "metadata": {
        "colab": {
          "base_uri": "https://localhost:8080/",
          "height": 564
        },
        "id": "NMiCMkcpTwE1",
        "outputId": "1df84278-f0d9-4a92-d2a8-0dc46058a71d"
      },
      "execution_count": null,
      "outputs": [
        {
          "output_type": "display_data",
          "data": {
            "text/plain": [
              "<Figure size 800x600 with 1 Axes>"
            ],
            "image/png": "[encoded data removed]"
          },
          "metadata": {}
        }
      ]
    },
    {
      "cell_type": "markdown",
      "source": [
        "##2.QR분해(QR Decomposition) 및 최적근사"
      ],
      "metadata": {
        "id": "li6NTjwCAU-7"
      }
    },
    {
      "cell_type": "code",
      "source": [
        "A = np.array([[1,0,1],[0,1,1],[1,2,0]])\n",
        "\n",
        "Q,R = np.linalg.qr(A)\n",
        "\n",
        "print(Q)\n",
        "print()\n",
        "print(R)"
      ],
      "metadata": {
        "colab": {
          "base_uri": "https://localhost:8080/"
        },
        "id": "ISULHHFH_fT0",
        "outputId": "42e9e60c-0d38-4b1b-b090-e03e6d713636"
      },
      "execution_count": null,
      "outputs": [
        {
          "output_type": "stream",
          "name": "stdout",
          "text": [
            "[[-0.70710678  0.57735027 -0.40824829]\n",
            " [-0.         -0.57735027 -0.81649658]\n",
            " [-0.70710678 -0.57735027  0.40824829]]\n",
            "\n",
            "[[-1.41421356 -1.41421356 -0.70710678]\n",
            " [ 0.         -1.73205081  0.        ]\n",
            " [ 0.          0.         -1.22474487]]\n"
          ]
        }
      ]
    },
    {
      "cell_type": "markdown",
      "source": [
        "- QR 분해를 이용하여 최적근사해 찾기"
      ],
      "metadata": {
        "id": "E56B15I3Gq1g"
      }
    },
    {
      "cell_type": "code",
      "source": [
        "def qr_b_a():\n",
        "  A = input_matrix()\n",
        "  b = input_matrix()\n",
        "\n",
        "  Q,R = np.linalg.qr(A)\n",
        "  print(Q)\n",
        "  print()\n",
        "  print(R)\n",
        "\n",
        "  x = np.matmul(np.matmul(np.linalg.inv(R),np.transpose(Q)),b)\n",
        "  print()\n",
        "  return print(x)"
      ],
      "metadata": {
        "id": "bqMYUeO6GN0Z"
      },
      "execution_count": null,
      "outputs": []
    },
    {
      "cell_type": "code",
      "source": [
        "qr_b_a()"
      ],
      "metadata": {
        "colab": {
          "base_uri": "https://localhost:8080/"
        },
        "id": "pMG2Yp5PH0SZ",
        "outputId": "f0dc4109-f27d-4407-bd9e-4c009a954dfa"
      },
      "execution_count": null,
      "outputs": [
        {
          "output_type": "stream",
          "name": "stdout",
          "text": [
            "행렬을 입력하세요. 각 행은 공백으로 구분된 숫자들을 입력하세요.\n",
            "행 입력 (종료하려면 'q' 입력): 1 0 1\n",
            "행 입력 (종료하려면 'q' 입력): 0 1 1\n",
            "행 입력 (종료하려면 'q' 입력): 1 1 1\n",
            "행 입력 (종료하려면 'q' 입력): q\n",
            "행렬을 입력하세요. 각 행은 공백으로 구분된 숫자들을 입력하세요.\n",
            "행 입력 (종료하려면 'q' 입력): 1\n",
            "행 입력 (종료하려면 'q' 입력): 4\n",
            "행 입력 (종료하려면 'q' 입력): 1\n",
            "행 입력 (종료하려면 'q' 입력): q\n",
            "[[-0.70710678  0.40824829 -0.57735027]\n",
            " [-0.         -0.81649658 -0.57735027]\n",
            " [-0.70710678 -0.40824829  0.57735027]]\n",
            "\n",
            "[[-1.41421356 -0.70710678 -1.41421356]\n",
            " [ 0.         -1.22474487 -0.81649658]\n",
            " [ 0.          0.         -0.57735027]]\n",
            "\n",
            "[[-3.00000000e+00]\n",
            " [ 1.11022302e-16]\n",
            " [ 4.00000000e+00]]\n"
          ]
        }
      ]
    },
    {
      "cell_type": "markdown",
      "source": [
        "##3.고윳값 분해(EVD)와 특이값 분해(SVD)"
      ],
      "metadata": {
        "id": "23GRPBHwV4s_"
      }
    },
    {
      "cell_type": "markdown",
      "source": [
        "- 고윳값 분해"
      ],
      "metadata": {
        "id": "8SdrdN_TbRyv"
      }
    },
    {
      "cell_type": "code",
      "source": [
        "a = np.array([[3,0,1],[1,0,2],[2,1,1]])\n",
        "\n",
        "e,v = np.linalg.eig(A)\n",
        "\n",
        "print(e)\n",
        "print()\n",
        "print(v)"
      ],
      "metadata": {
        "colab": {
          "base_uri": "https://localhost:8080/"
        },
        "id": "zdsL9OdpWEVs",
        "outputId": "ee3efd49-4653-446a-aa77-72becc2166d7"
      },
      "execution_count": null,
      "outputs": [
        {
          "output_type": "stream",
          "name": "stdout",
          "text": [
            "[-1.30277564  1.          2.30277564]\n",
            "\n",
            "[[ 3.70046261e-01 -8.94427191e-01 -5.20070353e-01]\n",
            " [ 3.70046261e-01  4.47213595e-01 -5.20070353e-01]\n",
            " [-8.52133516e-01 -2.18982946e-16 -6.77534985e-01]]\n"
          ]
        }
      ]
    },
    {
      "cell_type": "markdown",
      "source": [
        "- 특이값 분해"
      ],
      "metadata": {
        "id": "bXpVtbPmbRPo"
      }
    },
    {
      "cell_type": "code",
      "source": [
        "B = np.array([[3,6],[2,3],[1,2],[5,5]])\n",
        "\n",
        "U,S,Vt = np.linalg.svd(B)\n",
        "\n",
        "print(U)\n",
        "print()\n",
        "print(S)\n",
        "print()\n",
        "print(Vt)"
      ],
      "metadata": {
        "colab": {
          "base_uri": "https://localhost:8080/"
        },
        "id": "RTFL0ioobXA8",
        "outputId": "6a7eaa7a-2dd3-42f1-fcdc-5e956708eca3"
      },
      "execution_count": null,
      "outputs": [
        {
          "output_type": "stream",
          "name": "stdout",
          "text": [
            "[[-0.6305882   0.65070051 -0.34404196  0.24613512]\n",
            " [-0.34294608  0.0720764   0.09856768 -0.93138466]\n",
            " [-0.21019607  0.21690017  0.9335582   0.19297931]\n",
            " [-0.66375005 -0.72411888 -0.01971354  0.18627693]]\n",
            "\n",
            "[10.50804076  1.6065738 ]\n",
            "\n",
            "[[-0.58113622 -0.8138063 ]\n",
            " [-0.8138063   0.58113622]]\n"
          ]
        }
      ]
    }
  ]
}