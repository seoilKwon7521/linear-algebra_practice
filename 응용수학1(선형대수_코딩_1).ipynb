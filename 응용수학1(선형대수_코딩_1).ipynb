{
  "nbformat": 4,
  "nbformat_minor": 0,
  "metadata": {
    "colab": {
      "provenance": []
    },
    "kernelspec": {
      "name": "python3",
      "display_name": "Python 3"
    },
    "language_info": {
      "name": "python"
    }
  },
  "cells": [
    {
      "cell_type": "markdown",
      "source": [
        "#선형대수 파이썬-1"
      ],
      "metadata": {
        "id": "HgjMo8-uTXCD"
      }
    },
    {
      "cell_type": "markdown",
      "source": [
        "##1.벡터 및 행렬 표현"
      ],
      "metadata": {
        "id": "HyYvPaSy5xC5"
      }
    },
    {
      "cell_type": "code",
      "source": [
        "import numpy as np  ##( numpy 모듈을 호출하기 위해 필요한 명령어 )"
      ],
      "metadata": {
        "id": "79j_gkLLFB0m"
      },
      "execution_count": null,
      "outputs": []
    },
    {
      "cell_type": "markdown",
      "source": [
        "###벡터와 연산"
      ],
      "metadata": {
        "id": "M1-XnoT3FdOI"
      }
    },
    {
      "cell_type": "code",
      "source": [
        "u = np.array([1,2,3])\n",
        "print(u)"
      ],
      "metadata": {
        "colab": {
          "base_uri": "https://localhost:8080/"
        },
        "id": "pHWgqYVdFEWS",
        "outputId": "7efdc931-78da-48b3-b2c0-f89eedf081e8"
      },
      "execution_count": null,
      "outputs": [
        {
          "output_type": "stream",
          "name": "stdout",
          "text": [
            "[1 2 3]\n"
          ]
        }
      ]
    },
    {
      "cell_type": "code",
      "source": [
        "v=np.array([4,5,6])\n",
        "print(v)"
      ],
      "metadata": {
        "colab": {
          "base_uri": "https://localhost:8080/"
        },
        "id": "DnzDKIYoFwwE",
        "outputId": "e919eeba-820e-403d-f0cc-038d4af9787e"
      },
      "execution_count": null,
      "outputs": [
        {
          "output_type": "stream",
          "name": "stdout",
          "text": [
            "[4 5 6]\n"
          ]
        }
      ]
    },
    {
      "cell_type": "code",
      "source": [
        "print(\"두\",\"벡터간의\",\"합:\",u+v)\n",
        "print(\"두\",\"벡터간의\",\"차:\",u-v)\n",
        "print(\"두\",\"벡터간의\",\"내적:\",np.dot(u,v))\n",
        "print(\"두\",\"벡터간의\",\"외적:\",np.cross(u,v))"
      ],
      "metadata": {
        "colab": {
          "base_uri": "https://localhost:8080/"
        },
        "id": "fN5AnPOxKjKS",
        "outputId": "05a826e7-0538-4802-815d-d6ffdc30624b"
      },
      "execution_count": null,
      "outputs": [
        {
          "output_type": "stream",
          "name": "stdout",
          "text": [
            "두 벡터간의 합: [5 7 9]\n",
            "두 벡터간의 차: [-3 -3 -3]\n",
            "두 벡터간의 내적: 32\n",
            "두 벡터간의 외적: [-3  6 -3]\n"
          ]
        }
      ]
    },
    {
      "cell_type": "markdown",
      "source": [
        "###행렬과 연산"
      ],
      "metadata": {
        "id": "0nktqd1eLfsP"
      }
    },
    {
      "cell_type": "code",
      "source": [
        "A = np.array([[2,-7,3],[3,4,5],[6,1,4]])\n",
        "B = np.array([[1,4,5],[4,-1,3],[2,5,-1]])\n",
        "\n",
        "print(A)\n",
        "print()\n",
        "print(B)"
      ],
      "metadata": {
        "colab": {
          "base_uri": "https://localhost:8080/"
        },
        "id": "BaNv8ujsLwf9",
        "outputId": "226b7383-71ad-48f0-a07a-f43de1a5371f"
      },
      "execution_count": null,
      "outputs": [
        {
          "output_type": "stream",
          "name": "stdout",
          "text": [
            "[[ 2 -7  3]\n",
            " [ 3  4  5]\n",
            " [ 6  1  4]]\n",
            "\n",
            "[[ 1  4  5]\n",
            " [ 4 -1  3]\n",
            " [ 2  5 -1]]\n"
          ]
        }
      ]
    },
    {
      "cell_type": "code",
      "source": [
        "print(A+B)   # 두 행렬간의 합\n",
        "print()\n",
        "print(np.matmul(A,B)) # 두 행렬간의 곱"
      ],
      "metadata": {
        "colab": {
          "base_uri": "https://localhost:8080/"
        },
        "id": "ghSkQFMmNn5W",
        "outputId": "207f8b8c-7fa3-4194-c737-534f2c7a828f"
      },
      "execution_count": null,
      "outputs": [
        {
          "output_type": "stream",
          "name": "stdout",
          "text": [
            "[[ 3 -3  8]\n",
            " [ 7  3  8]\n",
            " [ 8  6  3]]\n",
            "\n",
            "[[-20  30 -14]\n",
            " [ 29  33  22]\n",
            " [ 18  43  29]]\n"
          ]
        }
      ]
    },
    {
      "cell_type": "code",
      "source": [
        "print(np.transpose(A))  # 전치행렬\n",
        "print()\n",
        "print(np.linalg.det(A))  # 행렬식\n",
        "print()\n",
        "print(np.linalg.inv(A))  # 역행렬"
      ],
      "metadata": {
        "colab": {
          "base_uri": "https://localhost:8080/"
        },
        "id": "zqvzmiyYn2-m",
        "outputId": "85240572-56a3-4f39-bf0d-b1a4bd0ec032"
      },
      "execution_count": null,
      "outputs": [
        {
          "output_type": "stream",
          "name": "stdout",
          "text": [
            "[[ 2  3  6]\n",
            " [-7  4  1]\n",
            " [ 3  5  4]]\n",
            "\n",
            "-166.99999999999991\n",
            "\n",
            "[[-0.06586826 -0.18562874  0.28143713]\n",
            " [-0.10778443  0.05988024  0.00598802]\n",
            " [ 0.1257485   0.26347305 -0.17365269]]\n"
          ]
        }
      ]
    },
    {
      "cell_type": "markdown",
      "source": [
        "##2. Projection operator"
      ],
      "metadata": {
        "id": "uvDMl2f4pwLX"
      }
    },
    {
      "cell_type": "markdown",
      "source": [
        "### (1) 2차원 R^2상에 x,y좌표축으로의 projection"
      ],
      "metadata": {
        "id": "uJIONqTP4YZl"
      }
    },
    {
      "cell_type": "code",
      "source": [
        "import numpy as np\n",
        "import matplotlib.pyplot as plt\n",
        "\n",
        "# x축에 대한 사영 행렬\n",
        "P_x = np.array([[1, 0],\n",
        "                [0, 0]])\n",
        "\n",
        "# y축에 대한 사영 행렬\n",
        "P_y = np.array([[0, 0],\n",
        "                [0, 1]])"
      ],
      "metadata": {
        "id": "c_PKZcJM5OGc"
      },
      "execution_count": null,
      "outputs": []
    },
    {
      "cell_type": "code",
      "source": [
        "print(P_x)\n",
        "print(P_y)"
      ],
      "metadata": {
        "colab": {
          "base_uri": "https://localhost:8080/"
        },
        "id": "_25Ku5dMAcH8",
        "outputId": "c31f5f34-9204-46d8-b374-298a098d80f4"
      },
      "execution_count": null,
      "outputs": [
        {
          "output_type": "stream",
          "name": "stdout",
          "text": [
            "[[1 0]\n",
            " [0 0]]\n",
            "[[0 0]\n",
            " [0 1]]\n"
          ]
        }
      ]
    },
    {
      "cell_type": "code",
      "source": [
        "a = np.array([1,4])\n",
        "\n",
        "# x축으로 사영\n",
        "projected_vector_x = np.dot(P_x,a)\n",
        "\n",
        "# y축으로 사영\n",
        "projected_vector_y = np.dot(P_y,a)\n",
        "\n",
        "print(projected_vector_x)\n",
        "print(projected_vector_y)"
      ],
      "metadata": {
        "colab": {
          "base_uri": "https://localhost:8080/"
        },
        "id": "iGbNJRcjAPZZ",
        "outputId": "7aea4c41-a034-48b8-c224-7c3956b4d442"
      },
      "execution_count": null,
      "outputs": [
        {
          "output_type": "stream",
          "name": "stdout",
          "text": [
            "[1 0]\n",
            "[0 4]\n"
          ]
        }
      ]
    },
    {
      "cell_type": "code",
      "source": [],
      "metadata": {
        "id": "GEMFNUCtuExU"
      },
      "execution_count": null,
      "outputs": []
    },
    {
      "cell_type": "markdown",
      "source": [
        "###(2) 직선 y=mx위로의 projection"
      ],
      "metadata": {
        "id": "_Y47rWRABfdp"
      }
    },
    {
      "cell_type": "code",
      "source": [
        "import numpy as np\n",
        "\n",
        "def proj_onto_line(m):\n",
        "\n",
        "    # 직선의 방향 벡터를 열 벡터로 표현\n",
        "    direction_vector = np.array([1, m]).reshape(-1, 1)\n",
        "\n",
        "    P = (1 / (1 + m**2)) * np.dot(direction_vector, direction_vector.T)\n",
        "\n",
        "    return P\n",
        "\n",
        "# 주어진 벡터\n",
        "vector = np.array([5, 3])\n",
        "\n",
        "# 직선 y = mx에 대한 사영 연산자 행렬 계산\n",
        "m=6\n",
        "P_line = proj_onto_line(6)\n",
        "\n",
        "# 벡터를 주어진 직선에 대해 사영시킵니다.\n",
        "projected_vector_line = np.dot(P_line, vector)\n",
        "\n",
        "print(\"주어진 벡터 [5, 3]을 직선 y = 6x에 대해 사영한 결과:\", projected_vector_line)\n"
      ],
      "metadata": {
        "colab": {
          "base_uri": "https://localhost:8080/"
        },
        "id": "WByqKcKmGTMP",
        "outputId": "6624cb1b-3526-4ad5-a604-b48125c912b9"
      },
      "execution_count": null,
      "outputs": [
        {
          "output_type": "stream",
          "name": "stdout",
          "text": [
            "주어진 벡터 [5, 3]을 직선 y = 6x에 대해 사영한 결과: [0.62162162 3.72972973]\n"
          ]
        }
      ]
    },
    {
      "cell_type": "code",
      "source": [
        "import matplotlib.pyplot as plt\n",
        "plt.figure(figsize=(8, 6))\n",
        "plt.quiver(0, 0, vector[0], vector[1], angles='xy', scale_units='xy', scale=1, color='blue', label='Original Vector')\n",
        "plt.quiver(0, 0, projected_vector_line[0], projected_vector_line[1], angles='xy', scale_units='xy', scale=1, color='red', label='Projected Vector')\n",
        "x_values = np.linspace(-3, 3, 100)\n",
        "y_values = m * x_values\n",
        "plt.plot(x_values, y_values, color='black', linestyle='--', label='y = 6x')\n",
        "\n",
        "plt.xlim(-10, 10)\n",
        "plt.ylim(-10,10)\n",
        "plt.xlabel('X-axis')\n",
        "plt.ylabel('Y-axis')\n",
        "plt.title('Projection of Vector [5, 3] onto y = 6x')\n",
        "plt.axhline(0, color='black', linewidth=0.5)\n",
        "plt.axvline(0, color='black', linewidth=0.5)\n",
        "plt.grid(True)\n",
        "plt.legend()\n",
        "plt.show()\n"
      ],
      "metadata": {
        "colab": {
          "base_uri": "https://localhost:8080/",
          "height": 490
        },
        "id": "4Sci7EnYO-QT",
        "outputId": "0ab17296-76ca-4d03-a99c-7bb93fa82862"
      },
      "execution_count": null,
      "outputs": [
        {
          "output_type": "display_data",
          "data": {
            "text/plain": [
              "<Figure size 800x600 with 1 Axes>"
            ],
            "image/png": "[encoded data removed]"
          },
          "metadata": {}
        }
      ]
    },
    {
      "cell_type": "markdown",
      "source": [
        "###(3)n차원에서의 Projection"
      ],
      "metadata": {
        "id": "UVpNrpaIYjKq"
      }
    },
    {
      "cell_type": "code",
      "source": [
        "import numpy as np\n",
        "\n",
        "def pn(vectors,Y):\n",
        "  basis = []\n",
        "  proj = np.zeros(len(Y))\n",
        "  for i in range(1,len(vectors)+1):\n",
        "    vector = np.array(vectors[i-1])\n",
        "    if (i==1):\n",
        "      basis.append(vector)\n",
        "    else :\n",
        "      for k in range(0,i-1):\n",
        "        vector = vector - (np.dot(vector,basis[k])/np.dot(basis[k],basis[k]))*basis[k]\n",
        "      basis.append(vector)\n",
        "  for i in range(0,len(basis)):\n",
        "    proj = proj + (np.dot(Y,basis[i])/np.dot(basis[i],basis[i]))*basis[i]\n",
        "  print(basis)\n",
        "  print()\n",
        "  return print(proj)\n"
      ],
      "metadata": {
        "id": "hfMCdNbLa7q5"
      },
      "execution_count": null,
      "outputs": []
    },
    {
      "cell_type": "code",
      "source": [
        "pn([[1 , 5 , 8 , 7],[4 , 13 , 1 , 7],[7 , 8 , 10 , 5 ]],[1, 2 , 2 , -2])"
      ],
      "metadata": {
        "colab": {
          "base_uri": "https://localhost:8080/"
        },
        "id": "H3jOjx6VxZxi",
        "outputId": "40f7db6a-0087-4dd5-da93-0cf1f331f17c"
      },
      "execution_count": null,
      "outputs": [
        {
          "output_type": "stream",
          "name": "stdout",
          "text": [
            "[array([1, 5, 8, 7]), array([ 3.09352518,  8.4676259 , -6.25179856,  0.65467626]), array([ 5.0623027 ,  0.05890762,  2.23688129, -3.32169873])]\n",
            "\n",
            "[ 2.23271804  0.92642936  1.30136986 -0.61083197]\n"
          ]
        }
      ]
    }
  ]
}